{
 "cells": [
  {
   "cell_type": "markdown",
   "id": "14d023e9-83ca-4901-8d57-a2edf32a103a",
   "metadata": {},
   "source": [
    "## Project 1\n",
    "\n"
   ]
  },
  {
   "cell_type": "markdown",
   "id": "2bcbe7ee",
   "metadata": {},
   "source": [
    "### Using pure python"
   ]
  },
  {
   "cell_type": "code",
   "execution_count": null,
   "id": "e6f68af9-8943-43f0-bef9-b4725f785444",
   "metadata": {},
   "outputs": [],
   "source": [
    "#transfering file into a dictionary to avoid opening it in every cell\n",
    "\n",
    "import csv\n",
    "data=[]\n",
    "with open(\"Amazon Sale Report.csv\") as csvfile:\n",
    "    reader = csv.DictReader(csvfile)\n",
    "    for row in reader:\n",
    "        data.append(row)\n",
    "\n",
    "data[:1]"
   ]
  },
  {
   "cell_type": "code",
   "execution_count": null,
   "id": "a7844b88-ec53-4e84-b1d2-9e492edcf8df",
   "metadata": {},
   "outputs": [],
   "source": [
    "sales = []\n",
    "\n",
    "for row in data:\n",
    "    sales.append(float(row[\"Amount\"]))\n",
    "\n",
    "sales[:3]"
   ]
  },
  {
   "cell_type": "code",
   "execution_count": null,
   "id": "96634027-8b3f-4e3d-9178-b26a756454a4",
   "metadata": {},
   "outputs": [],
   "source": [
    "\n",
    "mean = sum(sales) / len(sales)\n",
    "\n",
    "#Median\n",
    "sales.sort()\n",
    "n = len(sales)\n",
    "if n % 2 == 1:  # Odd length\n",
    "    median = sales[n // 2]\n",
    "else:  # Even length\n",
    "    median = (sales[n // 2 - 1] + sales[n // 2]) / 2\n",
    "\n",
    "#Mode - I couldn't figure this out so I used ChatGPT's help in this part\n",
    "frequency = {}\n",
    "for item in sales:\n",
    "    if item in frequency:\n",
    "        frequency[item] += 1\n",
    "    else:\n",
    "        frequency[item] = 1\n",
    "\n",
    "\n",
    "mode = max(frequency, key=frequency.get)\n",
    "\n",
    "print(f\"Mean sales amount is {mean:.2f}, median amount is {median}, and mode is {mode} - all in Indian Ruppees\")"
   ]
  },
  {
   "cell_type": "code",
   "execution_count": null,
   "id": "e544a908-2168-4a25-b809-d1ca5989121b",
   "metadata": {},
   "outputs": [],
   "source": [
    "'''\n",
    "Attempting plotting mode by the number of * that show the frequency of each value. But it's takes a lot of memory and doesn't execute fully \n",
    "(and the results are not super meaningful)  \n",
    "'''\n",
    "'''\n",
    "Commenting this out since it takes a lot of memory when it runs, which slows down publishing\n",
    "for item in sales:\n",
    "    plot = '*'*frequency[item]\n",
    "    print(item, \" \", plot)\n",
    "    \n",
    "'''\n",
    "\n",
    "    "
   ]
  },
  {
   "cell_type": "markdown",
   "id": "9039304b-e37e-42be-98c8-0f92bfe71581",
   "metadata": {},
   "source": [
    "What I did above is download an amazon sales report from Kaggle then had to transfer all the data into a list called date (a list of dictionaries) so I don't need to open the file every time. \n",
    "I then created a list called sales which includes data under the \"key\" Amount. \n",
    "\n",
    "Then I made some computations on the amount of sales. \n",
    "I found the summary values above. The mode seems odd to be 0, probably due to many invalid transactions rows which could be cleaned. "
   ]
  },
  {
   "cell_type": "markdown",
   "id": "fb064736-05fd-454c-b70d-50c6c0b16d7a",
   "metadata": {},
   "source": [
    "### Using Pandas"
   ]
  },
  {
   "cell_type": "code",
   "execution_count": null,
   "id": "033f78aa-ba1a-42c5-aa39-27f1492513df",
   "metadata": {},
   "outputs": [],
   "source": [
    "import pandas as pd\n",
    "sales=pd.read_csv('Amazon Sale Report.csv')\n",
    "\n",
    "\n",
    "\n"
   ]
  },
  {
   "cell_type": "code",
   "execution_count": null,
   "id": "f391aaf2-c070-49c9-9769-c88c3d2356f2",
   "metadata": {},
   "outputs": [],
   "source": [
    "mean = sales[\"Amount\"].mean()\n",
    "median = sales[\"Amount\"].median()\n",
    "mode = sales[\"Amount\"].mode()\n",
    "print(f\"Mean sales amount is {mean:.2f}, median amount is {median}, and mode is {mode} - all in Indian Ruppees\")\n"
   ]
  },
  {
   "cell_type": "markdown",
   "id": "f4a78524-d1b3-4ad8-b1f6-19050b3e6bd8",
   "metadata": {},
   "source": [
    "I repeated basically the same steps in pandas. But I didn't need to move the data into a list then create another list for  the column \"Amount\". \n",
    "Panda allowed me to skip those and go directly to computing statistics, which gave me similar results. \n",
    "\n"
   ]
  },
  {
   "cell_type": "code",
   "execution_count": null,
   "id": "7bf8b825-c879-46fa-a11e-732ba9e4e338",
   "metadata": {},
   "outputs": [],
   "source": []
  }
 ],
 "metadata": {
  "kernelspec": {
   "display_name": "base",
   "language": "python",
   "name": "python3"
  },
  "language_info": {
   "codemirror_mode": {
    "name": "ipython",
    "version": 3
   },
   "file_extension": ".py",
   "mimetype": "text/x-python",
   "name": "python",
   "nbconvert_exporter": "python",
   "pygments_lexer": "ipython3",
   "version": "3.12.3"
  }
 },
 "nbformat": 4,
 "nbformat_minor": 5
}
